{
 "cells": [
  {
   "cell_type": "code",
   "execution_count": 49,
   "metadata": {},
   "outputs": [],
   "source": [
    "import os"
   ]
  },
  {
   "cell_type": "code",
   "execution_count": 50,
   "metadata": {},
   "outputs": [],
   "source": [
    "def extract_data(root):\n",
    "    result_dict = {}  # Create an empty dictionary to store the results\n",
    "    # Walk through all directories and subdirectories\n",
    "    for folder, subdirs, files in os.walk(root):\n",
    "        if os.path.basename(folder).startswith(\"o3cpu\"):\n",
    "            # Check if 'terminaloutput.txt' is not in the list of files in the folder\n",
    "            if \"terminaloutput.txt\" not in files:\n",
    "                # open the \"stats.txt\" file and read the last line\n",
    "                with open(os.path.join(folder, \"stats.txt\")) as f:\n",
    "                    overallMisses = 0\n",
    "                    # read all lines into a list\n",
    "                    lines = f.readlines()\n",
    "                    for line in lines:\n",
    "                        if \"simSeconds\" in line:\n",
    "                            # extract the simSeconds value from the line\n",
    "                            simSeconds = float(line.split()[1])\n",
    "                        if \"system.cpu.numCycles\" in line:\n",
    "                            # extract the numCycles value from the line\n",
    "                            numCycles = int(line.split()[1])\n",
    "                        if \"system.cpu.branchPred.condPredicted\" in line:\n",
    "                            # extract the conditional predicted branches value from the line\n",
    "                            condPredicted = int(line.split()[1])\n",
    "                        if \"system.cpu.branchPred.condIncorrect\" in line:\n",
    "                            # extract the conditional incorrect branches value from the line\n",
    "                            condIncorrect = int(line.split()[1])\n",
    "                        if \"system.cpu.commit.branchMispredicts\" in line:\n",
    "                            # extract the branch mispredicts value from the line\n",
    "                            branchMispredicts = int(line.split()[1])\n",
    "                        if \"overallMisses::total\" in line:\n",
    "                            # extract the overall misses value from the line\n",
    "                            overallMisses += int(line.split()[1])\n",
    "                result_dict[os.path.basename(folder)] = {\"Seconds\": simSeconds, \"Cycles\": numCycles, \"Conditional Predicted\": condPredicted,\n",
    "                                                         \"Conditional Incorrect\": condIncorrect, \"Branch Mispredicts\": branchMispredicts,\n",
    "                                                         \"Overall Cache Misses\": overallMisses}  # Create an empty dictionary for the folder\n",
    "\n",
    "    return result_dict"
   ]
  },
  {
   "cell_type": "code",
   "execution_count": 52,
   "metadata": {},
   "outputs": [
    {
     "name": "stdout",
     "output_type": "stream",
     "text": [
      "Benchmark\tSeconds\t\tCycles\t\tConditional Predicted\tConditional Incorrect\tBranch Mispredicts\tOverall Cache Misses\n",
      "o3cpu-spectre-localBP\t\t0.008116\t\t8116491\t\t863387\t\t\t\t7684\t\t\t\t7302\t\t\t\t56884\n",
      "o3cpu-spectre-multiperspective-perceptron-8KB\t\t0.240178\t\t240177980\t\t22681575\t\t\t\t114187\t\t\t\t113674\t\t\t\t1637081\n",
      "o3cpu-spectre-ltage\t\t0.567366\t\t567365605\t\t50246568\t\t\t\t41038\t\t\t\t40579\t\t\t\t3898824\n",
      "o3cpu-spectre-bimodebp\t\t0.008116\t\t8116133\t\t857885\t\t\t\t6890\t\t\t\t6308\t\t\t\t56763\n",
      "o3cpu-spectre-tournamentBP\t\t0.022431\t\t22430566\t\t2195718\t\t\t\t10817\t\t\t\t10356\t\t\t\t154371\n",
      "o3cpu-spectre-TAGE\t\t0.008017\t\t8016975\t\t815200\t\t\t\t2685\t\t\t\t2224\t\t\t\t56570\n"
     ]
    }
   ],
   "source": [
    "data = extract_data(\".\")\n",
    "\n",
    "# print data in a table\n",
    "print(\"Benchmark\\tSeconds\\t\\tCycles\\t\\tConditional Predicted\\tConditional Incorrect\\tBranch Mispredicts\\tOverall Cache Misses\")\n",
    "for key, value in data.items():\n",
    "    print(\"{}\\t\\t{}\\t\\t{}\\t\\t{}\\t\\t\\t\\t{}\\t\\t\\t\\t{}\\t\\t\\t\\t{}\".format(key.split(\"-\")[2], value[\"Seconds\"], value[\"Cycles\"], value[\"Conditional Predicted\"],\n",
    "                                                                         value[\"Conditional Incorrect\"], value[\"Branch Mispredicts\"],\n",
    "                                                                         value[\"Overall Cache Misses\"]))"
   ]
  }
 ],
 "metadata": {
  "kernelspec": {
   "display_name": "Python 3",
   "language": "python",
   "name": "python3"
  },
  "language_info": {
   "codemirror_mode": {
    "name": "ipython",
    "version": 3
   },
   "file_extension": ".py",
   "mimetype": "text/x-python",
   "name": "python",
   "nbconvert_exporter": "python",
   "pygments_lexer": "ipython3",
   "version": "3.10.2"
  },
  "orig_nbformat": 4
 },
 "nbformat": 4,
 "nbformat_minor": 2
}
